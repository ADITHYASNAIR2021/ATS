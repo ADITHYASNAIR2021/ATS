{
 "cells": [
  {
   "cell_type": "markdown",
   "metadata": {},
   "source": [
    "**imports**"
   ]
  },
  {
   "cell_type": "code",
   "execution_count": 1,
   "metadata": {},
   "outputs": [],
   "source": [
    "import nltk\n",
    "# nltk.download('stopwords')\n",
    "import spacy\n",
    "import PyPDF2\n",
    "import docx2txt\n",
    "import pyresparser"
   ]
  },
  {
   "cell_type": "markdown",
   "metadata": {},
   "source": [
    "**Using Sklearn**"
   ]
  },
  {
   "cell_type": "code",
   "execution_count": 2,
   "metadata": {},
   "outputs": [],
   "source": [
    "resume = docx2txt.process(\"D:/fun projects/ATS/Resumes/adithya.docx\")"
   ]
  },
  {
   "cell_type": "code",
   "execution_count": 3,
   "metadata": {},
   "outputs": [],
   "source": [
    "with open(\"D:/fun projects/ATS/Job_desc/AI_job_desc.txt\") as f:\n",
    "    job_desc = f.read()"
   ]
  },
  {
   "cell_type": "code",
   "execution_count": 4,
   "metadata": {},
   "outputs": [],
   "source": [
    "text_list = [resume,job_desc]"
   ]
  },
  {
   "cell_type": "code",
   "execution_count": 5,
   "metadata": {},
   "outputs": [],
   "source": [
    "from sklearn.feature_extraction.text import CountVectorizer\n",
    "cv = CountVectorizer()\n",
    "X = cv.fit_transform(text_list)"
   ]
  },
  {
   "cell_type": "code",
   "execution_count": 6,
   "metadata": {},
   "outputs": [
    {
     "name": "stdout",
     "output_type": "stream",
     "text": [
      "[[1.         0.62401323]\n",
      " [0.62401323 1.        ]]\n"
     ]
    }
   ],
   "source": [
    "from sklearn.metrics.pairwise import cosine_similarity\n",
    "match_matrix = cosine_similarity(X)\n",
    "print (match_matrix)"
   ]
  },
  {
   "cell_type": "code",
   "execution_count": 7,
   "metadata": {},
   "outputs": [
    {
     "name": "stdout",
     "output_type": "stream",
     "text": [
      "Match Percentage:  62.4 %\n"
     ]
    }
   ],
   "source": [
    "match = match_matrix[0][1]\n",
    "match = match*100\n",
    "match = round(match, 2)\n",
    "print(\"Match Percentage: \", match, \"%\")"
   ]
  },
  {
   "cell_type": "code",
   "execution_count": 8,
   "metadata": {},
   "outputs": [
    {
     "name": "stdout",
     "output_type": "stream",
     "text": [
      "You are selected\n"
     ]
    }
   ],
   "source": [
    "if match > 60 :\n",
    "    print(\"You are selected\")\n",
    "else:\n",
    "    print(\"You are not selected\")"
   ]
  },
  {
   "cell_type": "markdown",
   "metadata": {},
   "source": [
    "**Using SpaCy**"
   ]
  },
  {
   "cell_type": "code",
   "execution_count": 9,
   "metadata": {},
   "outputs": [
    {
     "name": "stdout",
     "output_type": "stream",
     "text": [
      "Similarity Percentage: 77.93 %\n",
      "You are selected\n"
     ]
    }
   ],
   "source": [
    "nlp = spacy.load('en_core_web_lg')\n",
    "resume_doc = nlp(resume)\n",
    "job_desc_doc = nlp(job_desc)\n",
    "similarity = resume_doc.similarity(job_desc_doc)\n",
    "match_percentage = similarity * 100\n",
    "\n",
    "print(\"Similarity Percentage:\", round(match_percentage, 2), \"%\")\n",
    "\n",
    "if match_percentage > 60:\n",
    "    print(\"You are selected\")\n",
    "else:\n",
    "    print(\"You are not selected\")"
   ]
  },
  {
   "cell_type": "markdown",
   "metadata": {},
   "source": [
    "**Using Python resume parsor and transformers**"
   ]
  },
  {
   "cell_type": "code",
   "execution_count": 10,
   "metadata": {},
   "outputs": [],
   "source": [
    "from pyresparser import ResumeParser\n",
    "import os"
   ]
  },
  {
   "cell_type": "code",
   "execution_count": 11,
   "metadata": {},
   "outputs": [],
   "source": [
    "resume = docx2txt.process(\"D:/fun projects/ATS/Resumes/adithya.docx\")"
   ]
  },
  {
   "cell_type": "markdown",
   "metadata": {},
   "source": [
    "**We will be using NER, in SPACY**"
   ]
  },
  {
   "cell_type": "markdown",
   "metadata": {},
   "source": [
    "**The Data annotation Tools which we use are :**\n",
    "\n",
    "     * doccano\n",
    "     * Labelstudio\n",
    "     * Inception"
   ]
  },
  {
   "cell_type": "code",
   "execution_count": 46,
   "metadata": {},
   "outputs": [],
   "source": [
    "import spacy\n",
    "from spacy.tokens import DocBin\n",
    "from tqdm import tqdm\n",
    "import json"
   ]
  },
  {
   "cell_type": "code",
   "execution_count": 47,
   "metadata": {},
   "outputs": [
    {
     "data": {
      "text/plain": [
       "'3.6.1'"
      ]
     },
     "execution_count": 47,
     "metadata": {},
     "output_type": "execute_result"
    }
   ],
   "source": [
    "spacy.__version__"
   ]
  },
  {
   "cell_type": "markdown",
   "metadata": {},
   "source": [
    "200 CV used for Training phase"
   ]
  },
  {
   "cell_type": "code",
   "execution_count": 48,
   "metadata": {},
   "outputs": [
    {
     "name": "stdout",
     "output_type": "stream",
     "text": [
      "200\n"
     ]
    }
   ],
   "source": [
    "cv_data = json.load(open('D:/fun projects/ATS/ATS/Train/train_data.json', 'r'))\n",
    "print(len(cv_data))"
   ]
  },
  {
   "cell_type": "code",
   "execution_count": 74,
   "metadata": {},
   "outputs": [
    {
     "name": "stdout",
     "output_type": "stream",
     "text": [
      "\u001b[38;5;2m✔ Auto-filled config with all values\u001b[0m\n",
      "\u001b[38;5;2m✔ Saved config\u001b[0m\n",
      "Train\\config.cfg\n",
      "You can now add your data and train your pipeline:\n",
      "python -m spacy train config.cfg --paths.train ./train.spacy --paths.dev ./dev.spacy\n"
     ]
    }
   ],
   "source": [
    "!python -m spacy init fill-config Train\\base_config.cfg Train\\config.cfg"
   ]
  },
  {
   "cell_type": "code",
   "execution_count": null,
   "metadata": {},
   "outputs": [],
   "source": [
    "cv_data"
   ]
  },
  {
   "cell_type": "code",
   "execution_count": 71,
   "metadata": {},
   "outputs": [],
   "source": [
    "from re import T\n",
    "def get_spacy_doc(file, data):\n",
    "    nlp = spacy.blank('en')\n",
    "    db = DocBin()\n",
    "    \n",
    "    for text, annot in tqdm(data):\n",
    "        doc = nlp.make_doc(text)\n",
    "        annot = annot['entities']\n",
    "        \n",
    "        ents=[]\n",
    "        entity_indices=[]\n",
    "        for start, end, label in annot:\n",
    "            skip_entity = False\n",
    "            for idx in range(start, end):\n",
    "                for idx in entity_indices:\n",
    "                    skip_entity = True\n",
    "                    break\n",
    "                if skip_entity==True:\n",
    "                    continue\n",
    "                entity_indices = entity_indices + list(range(start, end))\n",
    "                try:\n",
    "                    span = doc.char_span(start, end, label=label, alignment_mode='contract')\n",
    "                except:\n",
    "                    continue\n",
    "                \n",
    "                if span is None:\n",
    "                    err_data = str([start,end]) + \"     \" + str(text)+ \"\\n\"\n",
    "                    file.write(err_data)\n",
    "                else:\n",
    "                    ents.append(span)\n",
    "            try:\n",
    "                doc.ents = ents\n",
    "                db.add(doc)\n",
    "            except:\n",
    "                pass\n",
    "    return db\n",
    "    "
   ]
  },
  {
   "cell_type": "code",
   "execution_count": 72,
   "metadata": {},
   "outputs": [
    {
     "data": {
      "text/plain": [
       "(140, 60)"
      ]
     },
     "execution_count": 72,
     "metadata": {},
     "output_type": "execute_result"
    }
   ],
   "source": [
    "from sklearn.model_selection import train_test_split\n",
    "\n",
    "train, test = train_test_split(cv_data,test_size=0.3)\n",
    "len(train),len(test)"
   ]
  },
  {
   "cell_type": "code",
   "execution_count": 73,
   "metadata": {},
   "outputs": [
    {
     "name": "stderr",
     "output_type": "stream",
     "text": [
      "  6%|▌         | 8/140 [00:00<00:03, 37.38it/s]\n"
     ]
    },
    {
     "ename": "UnicodeEncodeError",
     "evalue": "'charmap' codec can't encode character '\\u27a2' in position 141: character maps to <undefined>",
     "output_type": "error",
     "traceback": [
      "\u001b[1;31m---------------------------------------------------------------------------\u001b[0m",
      "\u001b[1;31mUnicodeEncodeError\u001b[0m                        Traceback (most recent call last)",
      "\u001b[1;32md:\\fun projects\\ATS\\ATS\\ATS.ipynb Cell 26\u001b[0m in \u001b[0;36m3\n\u001b[0;32m      <a href='vscode-notebook-cell:/d%3A/fun%20projects/ATS/ATS/ATS.ipynb#X34sZmlsZQ%3D%3D?line=0'>1</a>\u001b[0m file \u001b[39m=\u001b[39m \u001b[39mopen\u001b[39m(\u001b[39m'\u001b[39m\u001b[39merror.txt\u001b[39m\u001b[39m'\u001b[39m, \u001b[39m'\u001b[39m\u001b[39mw\u001b[39m\u001b[39m'\u001b[39m)\n\u001b[1;32m----> <a href='vscode-notebook-cell:/d%3A/fun%20projects/ATS/ATS/ATS.ipynb#X34sZmlsZQ%3D%3D?line=2'>3</a>\u001b[0m db \u001b[39m=\u001b[39m get_spacy_doc(file,train)\n\u001b[0;32m      <a href='vscode-notebook-cell:/d%3A/fun%20projects/ATS/ATS/ATS.ipynb#X34sZmlsZQ%3D%3D?line=3'>4</a>\u001b[0m db\u001b[39m.\u001b[39mto_disk(\u001b[39m'\u001b[39m\u001b[39mtrain_data.spacy\u001b[39m\u001b[39m'\u001b[39m)\n\u001b[0;32m      <a href='vscode-notebook-cell:/d%3A/fun%20projects/ATS/ATS/ATS.ipynb#X34sZmlsZQ%3D%3D?line=5'>6</a>\u001b[0m db \u001b[39m=\u001b[39m get_spacy_doc(file,test)\n",
      "\u001b[1;32md:\\fun projects\\ATS\\ATS\\ATS.ipynb Cell 26\u001b[0m in \u001b[0;36m2\n\u001b[0;32m     <a href='vscode-notebook-cell:/d%3A/fun%20projects/ATS/ATS/ATS.ipynb#X34sZmlsZQ%3D%3D?line=25'>26</a>\u001b[0m \u001b[39mif\u001b[39;00m span \u001b[39mis\u001b[39;00m \u001b[39mNone\u001b[39;00m:\n\u001b[0;32m     <a href='vscode-notebook-cell:/d%3A/fun%20projects/ATS/ATS/ATS.ipynb#X34sZmlsZQ%3D%3D?line=26'>27</a>\u001b[0m     err_data \u001b[39m=\u001b[39m \u001b[39mstr\u001b[39m([start,end]) \u001b[39m+\u001b[39m \u001b[39m\"\u001b[39m\u001b[39m     \u001b[39m\u001b[39m\"\u001b[39m \u001b[39m+\u001b[39m \u001b[39mstr\u001b[39m(text)\u001b[39m+\u001b[39m \u001b[39m\"\u001b[39m\u001b[39m\\n\u001b[39;00m\u001b[39m\"\u001b[39m\n\u001b[1;32m---> <a href='vscode-notebook-cell:/d%3A/fun%20projects/ATS/ATS/ATS.ipynb#X34sZmlsZQ%3D%3D?line=27'>28</a>\u001b[0m     file\u001b[39m.\u001b[39mwrite(err_data)\n\u001b[0;32m     <a href='vscode-notebook-cell:/d%3A/fun%20projects/ATS/ATS/ATS.ipynb#X34sZmlsZQ%3D%3D?line=28'>29</a>\u001b[0m \u001b[39melse\u001b[39;00m:\n\u001b[0;32m     <a href='vscode-notebook-cell:/d%3A/fun%20projects/ATS/ATS/ATS.ipynb#X34sZmlsZQ%3D%3D?line=29'>30</a>\u001b[0m     ents\u001b[39m.\u001b[39mappend(span)\n",
      "File \u001b[1;32mc:\\Users\\ASUS\\AppData\\Local\\Programs\\Python\\Python311\\Lib\\encodings\\cp1252.py:19\u001b[0m, in \u001b[0;36mIncrementalEncoder.encode\u001b[1;34m(self, input, final)\u001b[0m\n\u001b[0;32m     18\u001b[0m \u001b[39mdef\u001b[39;00m \u001b[39mencode\u001b[39m(\u001b[39mself\u001b[39m, \u001b[39minput\u001b[39m, final\u001b[39m=\u001b[39m\u001b[39mFalse\u001b[39;00m):\n\u001b[1;32m---> 19\u001b[0m     \u001b[39mreturn\u001b[39;00m codecs\u001b[39m.\u001b[39mcharmap_encode(\u001b[39minput\u001b[39m,\u001b[39mself\u001b[39m\u001b[39m.\u001b[39merrors,encoding_table)[\u001b[39m0\u001b[39m]\n",
      "\u001b[1;31mUnicodeEncodeError\u001b[0m: 'charmap' codec can't encode character '\\u27a2' in position 141: character maps to <undefined>"
     ]
    }
   ],
   "source": [
    "file = open('error.txt', 'w')\n",
    "\n",
    "db = get_spacy_doc(file,train)\n",
    "db.to_disk('train_data.spacy')\n",
    "\n",
    "db = get_spacy_doc(file,test)\n",
    "db.to_disk('test_data.spacy')\n",
    "\n",
    "file.close()"
   ]
  }
 ],
 "metadata": {
  "kernelspec": {
   "display_name": "Python 3",
   "language": "python",
   "name": "python3"
  },
  "language_info": {
   "codemirror_mode": {
    "name": "ipython",
    "version": 3
   },
   "file_extension": ".py",
   "mimetype": "text/x-python",
   "name": "python",
   "nbconvert_exporter": "python",
   "pygments_lexer": "ipython3",
   "version": "3.11.1"
  },
  "orig_nbformat": 4
 },
 "nbformat": 4,
 "nbformat_minor": 2
}
