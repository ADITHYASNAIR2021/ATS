{
 "cells": [
  {
   "cell_type": "code",
   "execution_count": 1,
   "metadata": {},
   "outputs": [],
   "source": [
    "from dotenv import find_dotenv, load_dotenv\n",
    "from transformers import pipeline\n",
    "import os\n",
    "import requests\n",
    "from langchain import PromptTemplate,LLMChain, OpenAI\n",
    "from transformers import T5ForConditionalGeneration, T5Tokenizer\n"
   ]
  },
  {
   "cell_type": "code",
   "execution_count": 2,
   "metadata": {},
   "outputs": [],
   "source": [
    "load_dotenv(find_dotenv())\n",
    "HUGGINGFACE_API_HUB_TOKEN = os.getenv(\"HUGGINGFACEHUB_API_TOKEN\")\n",
    "OPENAI_API_KEY = os.getenv(\"OPENAI_API_KEY\")"
   ]
  },
  {
   "cell_type": "markdown",
   "metadata": {},
   "source": [
    "**Image to text**"
   ]
  },
  {
   "cell_type": "code",
   "execution_count": 3,
   "metadata": {},
   "outputs": [],
   "source": [
    "def image2text(url):\n",
    "    image_to_text = pipeline('image-to-text', model='Salesforce/blip-image-captioning-large')\n",
    "    text = image_to_text(url)[0]['generated_text']\n",
    "    return text"
   ]
  },
  {
   "cell_type": "markdown",
   "metadata": {},
   "source": [
    "**LLM**"
   ]
  },
  {
   "cell_type": "code",
   "execution_count": 4,
   "metadata": {},
   "outputs": [],
   "source": [
    "# def generate_story(scenario):\n",
    "#     model_name = \"t5-small\"  # You can choose other T5 models as well\n",
    "#     tokenizer = T5Tokenizer.from_pretrained(model_name)\n",
    "#     model = T5ForConditionalGeneration.from_pretrained(model_name)\n",
    "\n",
    "#     template = '''You are a story teller. You can generate a short story based on a simple narrative, \n",
    "#     The story should be no more than 100 words.\n",
    "    \n",
    "#     CONTEXT: {scenario}\n",
    "#     STORY:\n",
    "#     '''\n",
    "#     input_text = template.format(scenario=scenario)\n",
    "#     input_ids = tokenizer.encode(input_text, return_tensors=\"pt\", max_length=512, truncation=True)\n",
    "\n",
    "#     output_ids = model.generate(input_ids, max_length=100, num_return_sequences=1, no_repeat_ngram_size=2)\n",
    "#     story = tokenizer.decode(output_ids[0], skip_special_tokens=True)\n",
    "\n",
    "#     print(story)\n",
    "#     return story"
   ]
  },
  {
   "cell_type": "markdown",
   "metadata": {},
   "source": [
    "**Text to Speech**"
   ]
  },
  {
   "cell_type": "code",
   "execution_count": 6,
   "metadata": {},
   "outputs": [
    {
     "name": "stdout",
     "output_type": "stream",
     "text": [
      "teller. STORY: a story based on  . : there is  ,, The story should be no more than 100 words.: : There is an man sitting at s desk with'microphone' and - laptop!\n"
     ]
    }
   ],
   "source": [
    "def text2speech(message):\n",
    "    API_URL = \"https://api-inference.huggingface.co/models/espnet/kan-bayashi_ljspeech_vits\"\n",
    "    headers = {\"Authorization\": f\"Bearer {HUGGINGFACE_API_HUB_TOKEN}\"}\n",
    "    payload = {\"inputs\": message}\n",
    "    response = requests.post(API_URL, headers=headers, json=payload)\n",
    "    with open(\"audio.flac\", \"wb\") as file:\n",
    "\t\t    file.write(response.content)\n",
    "  \n",
    "scenario = image2text('dhanush.png')\n",
    "# story = generate_story(scenario)\n",
    "text2speech(scenario)\n"
   ]
  }
 ],
 "metadata": {
  "kernelspec": {
   "display_name": "Python 3",
   "language": "python",
   "name": "python3"
  },
  "language_info": {
   "codemirror_mode": {
    "name": "ipython",
    "version": 3
   },
   "file_extension": ".py",
   "mimetype": "text/x-python",
   "name": "python",
   "nbconvert_exporter": "python",
   "pygments_lexer": "ipython3",
   "version": "3.11.1"
  },
  "orig_nbformat": 4
 },
 "nbformat": 4,
 "nbformat_minor": 2
}
